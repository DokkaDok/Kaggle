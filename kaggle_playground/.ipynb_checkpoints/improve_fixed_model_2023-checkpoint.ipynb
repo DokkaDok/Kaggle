{
 "cells": [
  {
   "cell_type": "code",
   "execution_count": 72,
   "id": "5c3cc9a1-a6bf-4722-815f-297c6ee6ae47",
   "metadata": {},
   "outputs": [],
   "source": [
    "import seaborn as sns\n",
    "import matplotlib.pyplot as plt\n",
    "import numpy as np\n",
    "import pandas as pd"
   ]
  },
  {
   "cell_type": "code",
   "execution_count": 73,
   "id": "7f14829b-86c0-4931-a8e8-bd8af0c98b9b",
   "metadata": {},
   "outputs": [],
   "source": [
    "train = pd.read_csv('sample_submission.csv')"
   ]
  },
  {
   "cell_type": "code",
   "execution_count": 74,
   "id": "722f83d3-3a1e-45d3-b330-3ed89c09ea41",
   "metadata": {},
   "outputs": [
    {
     "data": {
      "text/plain": [
       "<Axes: >"
      ]
     },
     "execution_count": 74,
     "metadata": {},
     "output_type": "execute_result"
    },
    {
     "data": {
      "image/png": "[encoded data removed]",
      "text/plain": [
       "<Figure size 432x288 with 1 Axes>"
      ]
     },
     "metadata": {
      "needs_background": "light"
     },
     "output_type": "display_data"
    }
   ],
   "source": [
    "sns.heatmap(train.isnull(),yticklabels=False,cbar=False,linecolor='black',linewidth=0.1)"
   ]
  },
  {
   "cell_type": "code",
   "execution_count": 75,
   "id": "65a8dc02",
   "metadata": {},
   "outputs": [
    {
     "data": {
      "text/html": [
       "<div>\n",
       "<style scoped>\n",
       "    .dataframe tbody tr th:only-of-type {\n",
       "        vertical-align: middle;\n",
       "    }\n",
       "\n",
       "    .dataframe tbody tr th {\n",
       "        vertical-align: top;\n",
       "    }\n",
       "\n",
       "    .dataframe thead th {\n",
       "        text-align: right;\n",
       "    }\n",
       "</style>\n",
       "<table border=\"1\" class=\"dataframe\">\n",
       "  <thead>\n",
       "    <tr style=\"text-align: right;\">\n",
       "      <th></th>\n",
       "      <th>id</th>\n",
       "      <th>target</th>\n",
       "      <th>O2_1</th>\n",
       "      <th>O2_2</th>\n",
       "      <th>O2_3</th>\n",
       "      <th>O2_4</th>\n",
       "      <th>O2_5</th>\n",
       "      <th>O2_6</th>\n",
       "      <th>O2_7</th>\n",
       "      <th>NH4_1</th>\n",
       "      <th>...</th>\n",
       "      <th>NO3_5</th>\n",
       "      <th>NO3_6</th>\n",
       "      <th>NO3_7</th>\n",
       "      <th>BOD5_1</th>\n",
       "      <th>BOD5_2</th>\n",
       "      <th>BOD5_3</th>\n",
       "      <th>BOD5_4</th>\n",
       "      <th>BOD5_5</th>\n",
       "      <th>BOD5_6</th>\n",
       "      <th>BOD5_7</th>\n",
       "    </tr>\n",
       "  </thead>\n",
       "  <tbody>\n",
       "    <tr>\n",
       "      <th>0</th>\n",
       "      <td>0</td>\n",
       "      <td>8.59</td>\n",
       "      <td>7.500</td>\n",
       "      <td>9.00</td>\n",
       "      <td>9.545</td>\n",
       "      <td>9.265</td>\n",
       "      <td>8.110</td>\n",
       "      <td>8.43</td>\n",
       "      <td>7.15</td>\n",
       "      <td>0.180</td>\n",
       "      <td>...</td>\n",
       "      <td>4.95</td>\n",
       "      <td>1.730</td>\n",
       "      <td>1.800</td>\n",
       "      <td>4.800</td>\n",
       "      <td>3.15</td>\n",
       "      <td>10.665</td>\n",
       "      <td>10.465</td>\n",
       "      <td>16.645</td>\n",
       "      <td>5.75</td>\n",
       "      <td>10.37</td>\n",
       "    </tr>\n",
       "    <tr>\n",
       "      <th>1</th>\n",
       "      <td>1</td>\n",
       "      <td>9.10</td>\n",
       "      <td>13.533</td>\n",
       "      <td>40.90</td>\n",
       "      <td>8.770</td>\n",
       "      <td>9.265</td>\n",
       "      <td>6.015</td>\n",
       "      <td>10.07</td>\n",
       "      <td>7.15</td>\n",
       "      <td>1.107</td>\n",
       "      <td>...</td>\n",
       "      <td>20.05</td>\n",
       "      <td>9.530</td>\n",
       "      <td>7.695</td>\n",
       "      <td>4.550</td>\n",
       "      <td>6.95</td>\n",
       "      <td>2.040</td>\n",
       "      <td>5.200</td>\n",
       "      <td>5.725</td>\n",
       "      <td>2.95</td>\n",
       "      <td>2.23</td>\n",
       "    </tr>\n",
       "    <tr>\n",
       "      <th>2</th>\n",
       "      <td>2</td>\n",
       "      <td>8.21</td>\n",
       "      <td>3.710</td>\n",
       "      <td>5.42</td>\n",
       "      <td>8.770</td>\n",
       "      <td>9.265</td>\n",
       "      <td>4.550</td>\n",
       "      <td>10.07</td>\n",
       "      <td>7.15</td>\n",
       "      <td>0.020</td>\n",
       "      <td>...</td>\n",
       "      <td>4.58</td>\n",
       "      <td>3.025</td>\n",
       "      <td>3.960</td>\n",
       "      <td>4.935</td>\n",
       "      <td>4.95</td>\n",
       "      <td>4.725</td>\n",
       "      <td>6.075</td>\n",
       "      <td>6.750</td>\n",
       "      <td>3.50</td>\n",
       "      <td>3.17</td>\n",
       "    </tr>\n",
       "    <tr>\n",
       "      <th>3</th>\n",
       "      <td>3</td>\n",
       "      <td>8.39</td>\n",
       "      <td>8.700</td>\n",
       "      <td>8.10</td>\n",
       "      <td>9.500</td>\n",
       "      <td>9.200</td>\n",
       "      <td>5.200</td>\n",
       "      <td>8.67</td>\n",
       "      <td>6.67</td>\n",
       "      <td>0.280</td>\n",
       "      <td>...</td>\n",
       "      <td>8.45</td>\n",
       "      <td>2.070</td>\n",
       "      <td>1.730</td>\n",
       "      <td>6.300</td>\n",
       "      <td>4.70</td>\n",
       "      <td>3.500</td>\n",
       "      <td>6.200</td>\n",
       "      <td>8.670</td>\n",
       "      <td>2.90</td>\n",
       "      <td>7.37</td>\n",
       "    </tr>\n",
       "    <tr>\n",
       "      <th>4</th>\n",
       "      <td>4</td>\n",
       "      <td>8.07</td>\n",
       "      <td>8.050</td>\n",
       "      <td>8.65</td>\n",
       "      <td>7.960</td>\n",
       "      <td>9.265</td>\n",
       "      <td>3.290</td>\n",
       "      <td>10.07</td>\n",
       "      <td>7.15</td>\n",
       "      <td>0.360</td>\n",
       "      <td>...</td>\n",
       "      <td>2.02</td>\n",
       "      <td>1.730</td>\n",
       "      <td>0.760</td>\n",
       "      <td>4.800</td>\n",
       "      <td>4.97</td>\n",
       "      <td>3.950</td>\n",
       "      <td>2.800</td>\n",
       "      <td>8.400</td>\n",
       "      <td>3.50</td>\n",
       "      <td>3.90</td>\n",
       "    </tr>\n",
       "  </tbody>\n",
       "</table>\n",
       "<p>5 rows × 37 columns</p>\n",
       "</div>"
      ],
      "text/plain": [
       "   id  target    O2_1   O2_2   O2_3   O2_4   O2_5   O2_6  O2_7  NH4_1  ...  \\\n",
       "0   0    8.59   7.500   9.00  9.545  9.265  8.110   8.43  7.15  0.180  ...   \n",
       "1   1    9.10  13.533  40.90  8.770  9.265  6.015  10.07  7.15  1.107  ...   \n",
       "2   2    8.21   3.710   5.42  8.770  9.265  4.550  10.07  7.15  0.020  ...   \n",
       "3   3    8.39   8.700   8.10  9.500  9.200  5.200   8.67  6.67  0.280  ...   \n",
       "4   4    8.07   8.050   8.65  7.960  9.265  3.290  10.07  7.15  0.360  ...   \n",
       "\n",
       "   NO3_5  NO3_6  NO3_7  BOD5_1  BOD5_2  BOD5_3  BOD5_4  BOD5_5  BOD5_6  BOD5_7  \n",
       "0   4.95  1.730  1.800   4.800    3.15  10.665  10.465  16.645    5.75   10.37  \n",
       "1  20.05  9.530  7.695   4.550    6.95   2.040   5.200   5.725    2.95    2.23  \n",
       "2   4.58  3.025  3.960   4.935    4.95   4.725   6.075   6.750    3.50    3.17  \n",
       "3   8.45  2.070  1.730   6.300    4.70   3.500   6.200   8.670    2.90    7.37  \n",
       "4   2.02  1.730  0.760   4.800    4.97   3.950   2.800   8.400    3.50    3.90  \n",
       "\n",
       "[5 rows x 37 columns]"
      ]
     },
     "execution_count": 75,
     "metadata": {},
     "output_type": "execute_result"
    }
   ],
   "source": [
    "train.head()"
   ]
  },
  {
   "cell_type": "code",
   "execution_count": 76,
   "id": "b4eb9ae6",
   "metadata": {},
   "outputs": [
    {
     "name": "stdout",
     "output_type": "stream",
     "text": [
      "<class 'pandas.core.frame.DataFrame'>\n",
      "RangeIndex: 3500 entries, 0 to 3499\n",
      "Data columns (total 37 columns):\n",
      " #   Column  Non-Null Count  Dtype  \n",
      "---  ------  --------------  -----  \n",
      " 0   id      3500 non-null   int64  \n",
      " 1   target  3500 non-null   float64\n",
      " 2   O2_1    3500 non-null   float64\n",
      " 3   O2_2    3500 non-null   float64\n",
      " 4   O2_3    3500 non-null   float64\n",
      " 5   O2_4    3500 non-null   float64\n",
      " 6   O2_5    3500 non-null   float64\n",
      " 7   O2_6    3500 non-null   float64\n",
      " 8   O2_7    3500 non-null   float64\n",
      " 9   NH4_1   3500 non-null   float64\n",
      " 10  NH4_2   3500 non-null   float64\n",
      " 11  NH4_3   3500 non-null   float64\n",
      " 12  NH4_4   3500 non-null   float64\n",
      " 13  NH4_5   3500 non-null   float64\n",
      " 14  NH4_6   3500 non-null   float64\n",
      " 15  NH4_7   3500 non-null   float64\n",
      " 16  NO2_1   3500 non-null   float64\n",
      " 17  NO2_2   3500 non-null   float64\n",
      " 18  NO2_3   3500 non-null   float64\n",
      " 19  NO2_4   3500 non-null   float64\n",
      " 20  NO2_5   3500 non-null   float64\n",
      " 21  NO2_6   3500 non-null   float64\n",
      " 22  NO2_7   3500 non-null   float64\n",
      " 23  NO3_1   3500 non-null   float64\n",
      " 24  NO3_2   3500 non-null   float64\n",
      " 25  NO3_3   3500 non-null   float64\n",
      " 26  NO3_4   3500 non-null   float64\n",
      " 27  NO3_5   3500 non-null   float64\n",
      " 28  NO3_6   3500 non-null   float64\n",
      " 29  NO3_7   3500 non-null   float64\n",
      " 30  BOD5_1  3500 non-null   float64\n",
      " 31  BOD5_2  3500 non-null   float64\n",
      " 32  BOD5_3  3500 non-null   float64\n",
      " 33  BOD5_4  3500 non-null   float64\n",
      " 34  BOD5_5  3500 non-null   float64\n",
      " 35  BOD5_6  3500 non-null   float64\n",
      " 36  BOD5_7  3500 non-null   float64\n",
      "dtypes: float64(36), int64(1)\n",
      "memory usage: 1011.8 KB\n"
     ]
    }
   ],
   "source": [
    "train.info()"
   ]
  },
  {
   "cell_type": "code",
   "execution_count": 77,
   "id": "92f4b317",
   "metadata": {},
   "outputs": [],
   "source": [
    "import missingno as msno"
   ]
  },
  {
   "cell_type": "code",
   "execution_count": 78,
   "id": "0a8deeb9",
   "metadata": {},
   "outputs": [
    {
     "data": {
      "text/plain": [
       "<Axes: >"
      ]
     },
     "execution_count": 78,
     "metadata": {},
     "output_type": "execute_result"
    },
    {
     "data": {
      "image/png": "[encoded data removed]",
      "text/plain": [
       "<Figure size 1800x720 with 3 Axes>"
      ]
     },
     "metadata": {
      "needs_background": "light"
     },
     "output_type": "display_data"
    }
   ],
   "source": [
    "msno.bar(train)"
   ]
  },
  {
   "cell_type": "code",
   "execution_count": 79,
   "id": "2a116789",
   "metadata": {},
   "outputs": [
    {
     "data": {
      "text/plain": [
       "0"
      ]
     },
     "execution_count": 79,
     "metadata": {},
     "output_type": "execute_result"
    }
   ],
   "source": [
    "train.duplicated().sum()"
   ]
  },
  {
   "cell_type": "code",
   "execution_count": 80,
   "id": "2273ffe2",
   "metadata": {},
   "outputs": [],
   "source": [
    "def detect_outliers(data, threshold=3):\n",
    "    z_scores = np.abs((train['target']-np.mean(train['target']))/np.std(train['target']))\n",
    "    outliers = z_scores > threshold\n",
    "    return outliers"
   ]
  },
  {
   "cell_type": "code",
   "execution_count": 81,
   "id": "dd58789a",
   "metadata": {},
   "outputs": [
    {
     "name": "stdout",
     "output_type": "stream",
     "text": [
      "[  49  101  177  279  282  291  316  317  336  379  407  451  465  469\n",
      "  484  536  642  797  831 1055 1191 1192 1194 1295 1530 1553 1665 1743\n",
      " 1866 1876 1934 1961 1979 2082 2160 2365 2477 2624 2662 2691 2708 3110\n",
      " 3326 3346 3348 3366 3408]\n"
     ]
    }
   ],
   "source": [
    "outliers = detect_outliers(train['target'])\n",
    "print(np.where(outliers)[0])"
   ]
  },
  {
   "cell_type": "code",
   "execution_count": 82,
   "id": "3a6c875a",
   "metadata": {},
   "outputs": [],
   "source": [
    "train = train.mask((train > 30) | (train < 0),np.nan)"
   ]
  },
  {
   "cell_type": "code",
   "execution_count": 83,
   "id": "eb6316a4",
   "metadata": {},
   "outputs": [
    {
     "data": {
      "text/plain": [
       "id        3469\n",
       "target       2\n",
       "O2_1        19\n",
       "O2_2       143\n",
       "O2_3         0\n",
       "O2_4         0\n",
       "O2_5         2\n",
       "O2_6         1\n",
       "O2_7         0\n",
       "NH4_1        0\n",
       "NH4_2        0\n",
       "NH4_3        0\n",
       "NH4_4        7\n",
       "NH4_5      181\n",
       "NH4_6        0\n",
       "NH4_7        0\n",
       "NO2_1        0\n",
       "NO2_2        0\n",
       "NO2_3        0\n",
       "NO2_4        1\n",
       "NO2_5        0\n",
       "NO2_6        0\n",
       "NO2_7        0\n",
       "NO3_1        0\n",
       "NO3_2        0\n",
       "NO3_3        0\n",
       "NO3_4        0\n",
       "NO3_5        3\n",
       "NO3_6        0\n",
       "NO3_7        0\n",
       "BOD5_1       0\n",
       "BOD5_2       0\n",
       "BOD5_3       0\n",
       "BOD5_4       1\n",
       "BOD5_5      11\n",
       "BOD5_6       0\n",
       "BOD5_7       0\n",
       "dtype: int64"
      ]
     },
     "execution_count": 83,
     "metadata": {},
     "output_type": "execute_result"
    }
   ],
   "source": [
    "train.isnull().sum()"
   ]
  },
  {
   "cell_type": "code",
   "execution_count": 84,
   "id": "aa2f650d",
   "metadata": {},
   "outputs": [],
   "source": [
    "from sklearn.impute import KNNImputer"
   ]
  },
  {
   "cell_type": "code",
   "execution_count": 85,
   "id": "6d74da5e",
   "metadata": {},
   "outputs": [],
   "source": [
    "imputer = KNNImputer(n_neighbors=10)\n",
    "imputed_df = pd.DataFrame(imputer.fit_transform(train),columns=train.columns)"
   ]
  },
  {
   "cell_type": "code",
   "execution_count": 86,
   "id": "c3ba8b16",
   "metadata": {},
   "outputs": [
    {
     "data": {
      "text/plain": [
       "id        0\n",
       "target    0\n",
       "O2_1      0\n",
       "O2_2      0\n",
       "O2_3      0\n",
       "O2_4      0\n",
       "O2_5      0\n",
       "O2_6      0\n",
       "O2_7      0\n",
       "NH4_1     0\n",
       "NH4_2     0\n",
       "NH4_3     0\n",
       "NH4_4     0\n",
       "NH4_5     0\n",
       "NH4_6     0\n",
       "NH4_7     0\n",
       "NO2_1     0\n",
       "NO2_2     0\n",
       "NO2_3     0\n",
       "NO2_4     0\n",
       "NO2_5     0\n",
       "NO2_6     0\n",
       "NO2_7     0\n",
       "NO3_1     0\n",
       "NO3_2     0\n",
       "NO3_3     0\n",
       "NO3_4     0\n",
       "NO3_5     0\n",
       "NO3_6     0\n",
       "NO3_7     0\n",
       "BOD5_1    0\n",
       "BOD5_2    0\n",
       "BOD5_3    0\n",
       "BOD5_4    0\n",
       "BOD5_5    0\n",
       "BOD5_6    0\n",
       "BOD5_7    0\n",
       "dtype: int64"
      ]
     },
     "execution_count": 86,
     "metadata": {},
     "output_type": "execute_result"
    }
   ],
   "source": [
    "imputed_df.isna().sum()"
   ]
  },
  {
   "cell_type": "code",
   "execution_count": 87,
   "id": "abebe101",
   "metadata": {},
   "outputs": [],
   "source": [
    "X = imputed_df.iloc[:,1:]\n",
    "y = imputed_df.loc[:,'target']"
   ]
  },
  {
   "cell_type": "code",
   "execution_count": 88,
   "id": "34303b24",
   "metadata": {},
   "outputs": [],
   "source": [
    "from sklearn.model_selection import train_test_split"
   ]
  },
  {
   "cell_type": "code",
   "execution_count": 89,
   "id": "b909df0f",
   "metadata": {},
   "outputs": [],
   "source": [
    "X_train, X_test, y_train, y_test = train_test_split(X, y, test_size=0.3)"
   ]
  },
  {
   "cell_type": "code",
   "execution_count": 90,
   "id": "4901ccbd",
   "metadata": {},
   "outputs": [],
   "source": [
    "from sklearn.ensemble import RandomForestRegressor"
   ]
  },
  {
   "cell_type": "code",
   "execution_count": 91,
   "id": "c3022bd1",
   "metadata": {},
   "outputs": [],
   "source": [
    "rf = RandomForestRegressor(n_estimators=1000,max_depth=7,n_jobs=-1,random_state=42)"
   ]
  },
  {
   "cell_type": "code",
   "execution_count": 92,
   "id": "e13da482",
   "metadata": {},
   "outputs": [
    {
     "data": {
      "text/html": [
       "<style>#sk-container-id-3 {color: black;}#sk-container-id-3 pre{padding: 0;}#sk-container-id-3 div.sk-toggleable {background-color: white;}#sk-container-id-3 label.sk-toggleable__label {cursor: pointer;display: block;width: 100%;margin-bottom: 0;padding: 0.3em;box-sizing: border-box;text-align: center;}#sk-container-id-3 label.sk-toggleable__label-arrow:before {content: \"▸\";float: left;margin-right: 0.25em;color: #696969;}#sk-container-id-3 label.sk-toggleable__label-arrow:hover:before {color: black;}#sk-container-id-3 div.sk-estimator:hover label.sk-toggleable__label-arrow:before {color: black;}#sk-container-id-3 div.sk-toggleable__content {max-height: 0;max-width: 0;overflow: hidden;text-align: left;background-color: #f0f8ff;}#sk-container-id-3 div.sk-toggleable__content pre {margin: 0.2em;color: black;border-radius: 0.25em;background-color: #f0f8ff;}#sk-container-id-3 input.sk-toggleable__control:checked~div.sk-toggleable__content {max-height: 200px;max-width: 100%;overflow: auto;}#sk-container-id-3 input.sk-toggleable__control:checked~label.sk-toggleable__label-arrow:before {content: \"▾\";}#sk-container-id-3 div.sk-estimator input.sk-toggleable__control:checked~label.sk-toggleable__label {background-color: #d4ebff;}#sk-container-id-3 div.sk-label input.sk-toggleable__control:checked~label.sk-toggleable__label {background-color: #d4ebff;}#sk-container-id-3 input.sk-hidden--visually {border: 0;clip: rect(1px 1px 1px 1px);clip: rect(1px, 1px, 1px, 1px);height: 1px;margin: -1px;overflow: hidden;padding: 0;position: absolute;width: 1px;}#sk-container-id-3 div.sk-estimator {font-family: monospace;background-color: #f0f8ff;border: 1px dotted black;border-radius: 0.25em;box-sizing: border-box;margin-bottom: 0.5em;}#sk-container-id-3 div.sk-estimator:hover {background-color: #d4ebff;}#sk-container-id-3 div.sk-parallel-item::after {content: \"\";width: 100%;border-bottom: 1px solid gray;flex-grow: 1;}#sk-container-id-3 div.sk-label:hover label.sk-toggleable__label {background-color: #d4ebff;}#sk-container-id-3 div.sk-serial::before {content: \"\";position: absolute;border-left: 1px solid gray;box-sizing: border-box;top: 0;bottom: 0;left: 50%;z-index: 0;}#sk-container-id-3 div.sk-serial {display: flex;flex-direction: column;align-items: center;background-color: white;padding-right: 0.2em;padding-left: 0.2em;position: relative;}#sk-container-id-3 div.sk-item {position: relative;z-index: 1;}#sk-container-id-3 div.sk-parallel {display: flex;align-items: stretch;justify-content: center;background-color: white;position: relative;}#sk-container-id-3 div.sk-item::before, #sk-container-id-3 div.sk-parallel-item::before {content: \"\";position: absolute;border-left: 1px solid gray;box-sizing: border-box;top: 0;bottom: 0;left: 50%;z-index: -1;}#sk-container-id-3 div.sk-parallel-item {display: flex;flex-direction: column;z-index: 1;position: relative;background-color: white;}#sk-container-id-3 div.sk-parallel-item:first-child::after {align-self: flex-end;width: 50%;}#sk-container-id-3 div.sk-parallel-item:last-child::after {align-self: flex-start;width: 50%;}#sk-container-id-3 div.sk-parallel-item:only-child::after {width: 0;}#sk-container-id-3 div.sk-dashed-wrapped {border: 1px dashed gray;margin: 0 0.4em 0.5em 0.4em;box-sizing: border-box;padding-bottom: 0.4em;background-color: white;}#sk-container-id-3 div.sk-label label {font-family: monospace;font-weight: bold;display: inline-block;line-height: 1.2em;}#sk-container-id-3 div.sk-label-container {text-align: center;}#sk-container-id-3 div.sk-container {/* jupyter's `normalize.less` sets `[hidden] { display: none; }` but bootstrap.min.css set `[hidden] { display: none !important; }` so we also need the `!important` here to be able to override the default hidden behavior on the sphinx rendered scikit-learn.org. See: https://github.com/scikit-learn/scikit-learn/issues/21755 */display: inline-block !important;position: relative;}#sk-container-id-3 div.sk-text-repr-fallback {display: none;}</style><div id=\"sk-container-id-3\" class=\"sk-top-container\"><div class=\"sk-text-repr-fallback\"><pre>RandomForestRegressor(max_depth=7, n_estimators=1000, n_jobs=-1,\n",
       "                      random_state=42)</pre><b>In a Jupyter environment, please rerun this cell to show the HTML representation or trust the notebook. <br />On GitHub, the HTML representation is unable to render, please try loading this page with nbviewer.org.</b></div><div class=\"sk-container\" hidden><div class=\"sk-item\"><div class=\"sk-estimator sk-toggleable\"><input class=\"sk-toggleable__control sk-hidden--visually\" id=\"sk-estimator-id-3\" type=\"checkbox\" checked><label for=\"sk-estimator-id-3\" class=\"sk-toggleable__label sk-toggleable__label-arrow\">RandomForestRegressor</label><div class=\"sk-toggleable__content\"><pre>RandomForestRegressor(max_depth=7, n_estimators=1000, n_jobs=-1,\n",
       "                      random_state=42)</pre></div></div></div></div></div>"
      ],
      "text/plain": [
       "RandomForestRegressor(max_depth=7, n_estimators=1000, n_jobs=-1,\n",
       "                      random_state=42)"
      ]
     },
     "execution_count": 92,
     "metadata": {},
     "output_type": "execute_result"
    }
   ],
   "source": [
    "rf.fit(X_train, y_train)"
   ]
  },
  {
   "cell_type": "code",
   "execution_count": 93,
   "id": "606dc6a9",
   "metadata": {},
   "outputs": [],
   "source": [
    "y_hat = rf.predict(X_test)"
   ]
  },
  {
   "cell_type": "code",
   "execution_count": 94,
   "id": "8f057c0a",
   "metadata": {},
   "outputs": [],
   "source": [
    "from sklearn.metrics import mean_squared_error"
   ]
  },
  {
   "cell_type": "code",
   "execution_count": 95,
   "id": "aa925f5a",
   "metadata": {},
   "outputs": [],
   "source": [
    "rmse = np.sqrt(mean_squared_error(y_test,y_hat))"
   ]
  },
  {
   "cell_type": "code",
   "execution_count": 96,
   "id": "968ec023",
   "metadata": {},
   "outputs": [
    {
     "name": "stdout",
     "output_type": "stream",
     "text": [
      "0.05332926583072339\n"
     ]
    }
   ],
   "source": [
    "print(rmse)"
   ]
  },
  {
   "cell_type": "code",
   "execution_count": null,
   "id": "3b9d5e0b",
   "metadata": {},
   "outputs": [],
   "source": []
  },
  {
   "cell_type": "code",
   "execution_count": 97,
   "id": "47804238",
   "metadata": {},
   "outputs": [],
   "source": [
    "# imputed_df.to_csv('oxygen_data.csv',index=False)"
   ]
  }
 ],
 "metadata": {
  "kernelspec": {
   "display_name": "Python 3",
   "language": "python",
   "name": "python3"
  },
  "language_info": {
   "codemirror_mode": {
    "name": "ipython",
    "version": 3
   },
   "file_extension": ".py",
   "mimetype": "text/x-python",
   "name": "python",
   "nbconvert_exporter": "python",
   "pygments_lexer": "ipython3",
   "version": "3.8.0"
  }
 },
 "nbformat": 4,
 "nbformat_minor": 5
}
