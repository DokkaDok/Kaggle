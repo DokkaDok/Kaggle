{
 "cells": [
  {
   "cell_type": "code",
   "execution_count": 50,
   "id": "5c3cc9a1-a6bf-4722-815f-297c6ee6ae47",
   "metadata": {},
   "outputs": [],
   "source": [
    "import seaborn as sns\n",
    "import matplotlib.pyplot as plt\n",
    "import numpy as np\n",
    "import pandas as pd\n",
    "\n",
    "from sklearn.impute import SimpleImputer\n",
    "from sklearn.preprocessing import StandardScaler"
   ]
  },
  {
   "cell_type": "code",
   "execution_count": 51,
   "id": "5ac74a95-e48d-4cff-8bdd-2644ff9c21a7",
   "metadata": {},
   "outputs": [],
   "source": [
    "train = pd.read_csv('train.csv')"
   ]
  },
  {
   "cell_type": "code",
   "execution_count": 52,
   "id": "722f83d3-3a1e-45d3-b330-3ed89c09ea41",
   "metadata": {},
   "outputs": [
    {
     "data": {
      "text/plain": [
       "<Axes: >"
      ]
     },
     "execution_count": 52,
     "metadata": {},
     "output_type": "execute_result"
    },
    {
     "data": {
      "image/png": "[encoded data removed]",
      "text/plain": [
       "<Figure size 640x480 with 1 Axes>"
      ]
     },
     "metadata": {},
     "output_type": "display_data"
    }
   ],
   "source": [
    "sns.heatmap(train.isnull(),yticklabels=False,cbar=False,linecolor='black',linewidth=0.1)"
   ]
  },
  {
   "cell_type": "code",
   "execution_count": 53,
   "id": "b576aa37-4237-47ea-b8ba-162386f27609",
   "metadata": {},
   "outputs": [],
   "source": [
    "imputer = SimpleImputer()"
   ]
  },
  {
   "cell_type": "code",
   "execution_count": 54,
   "id": "70659397-2802-41de-ba66-c3f6c2cc7b96",
   "metadata": {},
   "outputs": [],
   "source": [
    "df_imputed = imputer.fit_transform(train)"
   ]
  },
  {
   "cell_type": "code",
   "execution_count": 55,
   "id": "def95103-4718-4d3c-a940-360acd27a4e1",
   "metadata": {},
   "outputs": [],
   "source": [
    "train = pd.DataFrame(df_imputed,columns=train.columns)"
   ]
  },
  {
   "cell_type": "code",
   "execution_count": 60,
   "id": "8b2c3826-38d2-42c7-8212-d3b250bfacf8",
   "metadata": {},
   "outputs": [],
   "source": [
    "scaler = StandardScaler()\n",
    "df_scaled = scaler.fit_transform(train)\n",
    "train = pd.DataFrame(df_scaled,columns=train.columns)\n",
    "\n",
    "train.to_csv('oxygen_data.csv')"
   ]
  },
  {
   "cell_type": "code",
   "execution_count": 61,
   "id": "faefcd38-ae48-47dc-9f95-47f6cce558b5",
   "metadata": {},
   "outputs": [
    {
     "name": "stdout",
     "output_type": "stream",
     "text": [
      "<class 'pandas.core.frame.DataFrame'>\n",
      "RangeIndex: 147 entries, 0 to 146\n",
      "Data columns (total 37 columns):\n",
      " #   Column  Non-Null Count  Dtype  \n",
      "---  ------  --------------  -----  \n",
      " 0   Id      147 non-null    float64\n",
      " 1   target  147 non-null    float64\n",
      " 2   O2_1    147 non-null    float64\n",
      " 3   O2_2    147 non-null    float64\n",
      " 4   O2_3    147 non-null    float64\n",
      " 5   O2_4    147 non-null    float64\n",
      " 6   O2_5    147 non-null    float64\n",
      " 7   O2_6    147 non-null    float64\n",
      " 8   O2_7    147 non-null    float64\n",
      " 9   NH4_1   147 non-null    float64\n",
      " 10  NH4_2   147 non-null    float64\n",
      " 11  NH4_3   147 non-null    float64\n",
      " 12  NH4_4   147 non-null    float64\n",
      " 13  NH4_5   147 non-null    float64\n",
      " 14  NH4_6   147 non-null    float64\n",
      " 15  NH4_7   147 non-null    float64\n",
      " 16  NO2_1   147 non-null    float64\n",
      " 17  NO2_2   147 non-null    float64\n",
      " 18  NO2_3   147 non-null    float64\n",
      " 19  NO2_4   147 non-null    float64\n",
      " 20  NO2_5   147 non-null    float64\n",
      " 21  NO2_6   147 non-null    float64\n",
      " 22  NO2_7   147 non-null    float64\n",
      " 23  NO3_1   147 non-null    float64\n",
      " 24  NO3_2   147 non-null    float64\n",
      " 25  NO3_3   147 non-null    float64\n",
      " 26  NO3_4   147 non-null    float64\n",
      " 27  NO3_5   147 non-null    float64\n",
      " 28  NO3_6   147 non-null    float64\n",
      " 29  NO3_7   147 non-null    float64\n",
      " 30  BOD5_1  147 non-null    float64\n",
      " 31  BOD5_2  147 non-null    float64\n",
      " 32  BOD5_3  147 non-null    float64\n",
      " 33  BOD5_4  147 non-null    float64\n",
      " 34  BOD5_5  147 non-null    float64\n",
      " 35  BOD5_6  147 non-null    float64\n",
      " 36  BOD5_7  147 non-null    float64\n",
      "dtypes: float64(37)\n",
      "memory usage: 42.6 KB\n"
     ]
    }
   ],
   "source": [
    "train.info()"
   ]
  },
  {
   "cell_type": "code",
   "execution_count": 63,
   "id": "7f14829b-86c0-4931-a8e8-bd8af0c98b9b",
   "metadata": {},
   "outputs": [],
   "source": [
    "sample = pd.read_csv('sample_submission.csv')"
   ]
  },
  {
   "cell_type": "code",
   "execution_count": 59,
   "id": "f692dd29-c131-4d49-a5b5-05d9e7dd0d47",
   "metadata": {},
   "outputs": [],
   "source": [
    "# from sklearn.ensemble import RandomForestRegressor\n",
    "# from sklearn.metrics import classification_report, confusion_matrix\n",
    "\n",
    "# y_train = train.pop('target') # train is your submission!\n",
    "# rf = RandomForestRegressor(\n",
    "#        n_estimators=1000,\n",
    "#        max_depth=7,\n",
    "#        n_jobs=-1,\n",
    "#        random_state=42)\n",
    "# rf.fit(train, y_train)\n",
    "# y_hat = rf.predict(test) # test set is hidden from you\n",
    "\n",
    "# print(y_hat)"
   ]
  }
 ],
 "metadata": {
  "kernelspec": {
   "display_name": "Python 3 (ipykernel)",
   "language": "python",
   "name": "python3"
  },
  "language_info": {
   "codemirror_mode": {
    "name": "ipython",
    "version": 3
   },
   "file_extension": ".py",
   "mimetype": "text/x-python",
   "name": "python",
   "nbconvert_exporter": "python",
   "pygments_lexer": "ipython3",
   "version": "3.11.4"
  }
 },
 "nbformat": 4,
 "nbformat_minor": 5
}
