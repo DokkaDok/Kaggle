{
 "cells": [
  {
   "cell_type": "code",
   "execution_count": 108,
   "id": "18dc53bb",
   "metadata": {},
   "outputs": [],
   "source": [
    "import pandas as pd\n",
    "import numpy as np\n",
    "import matplotlib.pyplot as plt\n",
    "import seaborn as sns"
   ]
  },
  {
   "cell_type": "code",
   "execution_count": 109,
   "id": "da5cbf1f",
   "metadata": {},
   "outputs": [],
   "source": [
    "train = pd.read_csv('train.csv')\n",
    "test = pd.read_csv('test.csv')"
   ]
  },
  {
   "cell_type": "markdown",
   "id": "932ea51c-1dc2-457c-b438-34d704277d41",
   "metadata": {},
   "source": [
    "# Making Sex dummy variable"
   ]
  },
  {
   "cell_type": "code",
   "execution_count": 110,
   "id": "6fc35423-39f4-42b2-8aff-84a50383631b",
   "metadata": {},
   "outputs": [],
   "source": [
    "def process_sex():\n",
    "    global train\n",
    "    global test\n",
    "    \n",
    "    sex = pd.get_dummies(train['Sex'],drop_first=True,dtype=int)\n",
    "    sex_t = pd.get_dummies(test['Sex'],drop_first=True,dtype=int)\n",
    "    train.drop('Sex',axis=1,inplace=True)\n",
    "    test.drop('Sex',axis=1,inplace=True)\n",
    "    train = pd.concat([train,sex],axis=1)\n",
    "    test = pd.concat([test,sex_t],axis=1)\n",
    "process_sex()"
   ]
  },
  {
   "cell_type": "markdown",
   "id": "d33ad7b9-898a-4b40-8227-2764ab54a54a",
   "metadata": {},
   "source": [
    "# Getting titles from names and further grouping them"
   ]
  },
  {
   "cell_type": "code",
   "execution_count": 111,
   "id": "e6046d20-2671-462f-8173-776746944690",
   "metadata": {},
   "outputs": [
    {
     "name": "stdout",
     "output_type": "stream",
     "text": [
      "{'Dr', 'Col', 'Miss', 'Master', 'Rev', 'Ms', 'Mrs', 'Dona', 'Mr'}\n"
     ]
    }
   ],
   "source": [
    "titles = set()\n",
    "for name in test['Name']:\n",
    "    titles.add(name.split(',')[1].split('.')[0].strip())\n",
    "print(titles)"
   ]
  },
  {
   "cell_type": "code",
   "execution_count": 112,
   "id": "02573551-7263-4beb-8e6d-bbe832c5b5ca",
   "metadata": {},
   "outputs": [],
   "source": [
    "title_group = {\n",
    "    'Lady' : 'Royal',\n",
    "    'Jonkheer': 'Royal',\n",
    "    'Rev': 'Officer',\n",
    "    'Mrs': 'Mrs',\n",
    "    'Mme': 'Mrs',\n",
    "    'Capt': 'Officer',\n",
    "    'Ms': 'Mrs',\n",
    "    'Col': 'Officer',\n",
    "    'Mr': 'Mr', \n",
    "    'Sir': 'Royal', \n",
    "    'Mlle': 'Miss', \n",
    "    'Miss': 'Miss', \n",
    "    'Master': 'Master', \n",
    "    'the Countess' : 'Royal', \n",
    "    'Don': 'Royal', \n",
    "    'Dr': 'Officer', \n",
    "    'Major': 'Officer'\n",
    "}"
   ]
  },
  {
   "cell_type": "code",
   "execution_count": 113,
   "id": "70e0d74e-948f-4fa7-9ca0-16b55d56b046",
   "metadata": {},
   "outputs": [],
   "source": [
    "def process_title():\n",
    "    global train\n",
    "    global test\n",
    "    \n",
    "    train['Title'] = train['Name'].map(lambda name:name.split(',')[1].split('.')[0].strip()).map(title_group)\n",
    "    test['Title'] = test['Name'].map(lambda name:name.split(',')[1].split('.')[0].strip()).map(title_group)\n",
    "    title = pd.get_dummies(train['Title'],dtype=int)\n",
    "    title_t = pd.get_dummies(test['Title'],dtype=int)\n",
    "    train = pd.concat([train,title],axis=1)\n",
    "    test = pd.concat([test,title_t],axis=1)\n",
    "process_title()"
   ]
  },
  {
   "cell_type": "markdown",
   "id": "a8e8a842-a2cc-423a-94d4-0520af639967",
   "metadata": {},
   "source": [
    "# Fixing missing Age data with mean"
   ]
  },
  {
   "cell_type": "code",
   "execution_count": 114,
   "id": "41747dce-9aaa-4cf5-b28f-8e7996090a0f",
   "metadata": {},
   "outputs": [],
   "source": [
    "from sklearn.impute import KNNImputer"
   ]
  },
  {
   "cell_type": "code",
   "execution_count": 115,
   "id": "e25a82a1-c4c3-4313-a811-abb83bc6966d",
   "metadata": {},
   "outputs": [],
   "source": [
    "imp_mean = KNNImputer(n_neighbors=5)"
   ]
  },
  {
   "cell_type": "code",
   "execution_count": 116,
   "id": "573ee58c-17f0-4432-bee3-09660f4ec783",
   "metadata": {},
   "outputs": [],
   "source": [
    "imp_cols = ['Age','Pclass','male','Miss','Mr','Mrs','Officer']\n",
    "imp_mean.fit(train[imp_cols])\n",
    "imp_mean.fit(test[imp_cols])\n",
    "train2 = pd.DataFrame(imp_mean.transform(train[imp_cols]),columns=['Age','Pclass','male','Miss','Mr','Mrs','Officer'])\n",
    "test2 = pd.DataFrame(imp_mean.transform(test[imp_cols]),columns=['Age','Pclass','male','Miss','Mr','Mrs','Officer'])\n",
    "train['Age'] = train2['Age']\n",
    "test['Age'] = test2['Age']"
   ]
  },
  {
   "cell_type": "markdown",
   "id": "ef2ded30-1ef7-4869-a6e3-8fbdf4acd15f",
   "metadata": {},
   "source": [
    "*We can now drop Name and Title columns*"
   ]
  },
  {
   "cell_type": "code",
   "execution_count": 117,
   "id": "870b31fd-b10c-48c0-bf48-b687bda0b56f",
   "metadata": {},
   "outputs": [],
   "source": [
    "train.drop(['Name','Title'],axis=1,inplace=True)\n",
    "test.drop(['Name','Title'],axis=1,inplace=True)"
   ]
  },
  {
   "cell_type": "markdown",
   "id": "9d93e122-2f66-4085-adcb-7264481236bb",
   "metadata": {},
   "source": [
    "# Counting family members + passenger"
   ]
  },
  {
   "cell_type": "code",
   "execution_count": 118,
   "id": "a52705c9-37b2-44ce-8441-2102caae3b19",
   "metadata": {},
   "outputs": [],
   "source": [
    "def process_family():\n",
    "    train['Family'] = train['SibSp'] + train['Parch'] + 1\n",
    "    test['Family'] = test['SibSp'] + test['Parch'] + 1\n",
    "process_family()"
   ]
  },
  {
   "cell_type": "markdown",
   "id": "35f9dc25-f5ed-414e-8bc8-c04828088249",
   "metadata": {},
   "source": [
    "*We can drop SibSp and Parch, it would be overlapping data*"
   ]
  },
  {
   "cell_type": "code",
   "execution_count": 119,
   "id": "9ab21da7-3b6d-4fbe-8880-d009ee487e1f",
   "metadata": {},
   "outputs": [],
   "source": [
    "train.drop(['SibSp','Parch'],axis=1,inplace=True)\n",
    "test.drop(['SibSp','Parch'],axis=1,inplace=True)"
   ]
  },
  {
   "cell_type": "markdown",
   "id": "b97bea4e-6523-4c69-90ca-1cecffd996a9",
   "metadata": {},
   "source": [
    "# Fixing missing Cabin data"
   ]
  },
  {
   "cell_type": "code",
   "execution_count": 120,
   "id": "91688194-f4ce-4b70-b9e8-f63cd30bca4a",
   "metadata": {},
   "outputs": [],
   "source": [
    "def process_cabin():\n",
    "    global train\n",
    "    global test\n",
    "    \n",
    "    train['Cabin'].fillna('U',inplace=True)\n",
    "    test['Cabin'].fillna('U',inplace=True)\n",
    "\n",
    "    train['Cabin']= train['Cabin'].map(lambda cab:cab[0])\n",
    "    test['Cabin']= test['Cabin'].map(lambda cab:cab[0])\n",
    "    cabin = pd.get_dummies(train['Cabin'],drop_first=True,dtype=int)\n",
    "    cabin_t = pd.get_dummies(test['Cabin'],drop_first=True,dtype=int)\n",
    "    train.drop('Cabin',axis=1,inplace=True)\n",
    "    train = pd.concat([train,cabin],axis=1)\n",
    "    test.drop('Cabin',axis=1,inplace=True)\n",
    "    test = pd.concat([test,cabin_t],axis=1)\n",
    "process_cabin()"
   ]
  },
  {
   "cell_type": "markdown",
   "id": "e07c94bc-1939-48bc-aab3-a046f726fc58",
   "metadata": {},
   "source": [
    "# Processing Embarked into dummy variables"
   ]
  },
  {
   "cell_type": "code",
   "execution_count": 121,
   "id": "82b6911c-a33a-456c-9961-5eb6c0a7e71c",
   "metadata": {},
   "outputs": [
    {
     "data": {
      "text/plain": [
       "<Axes: xlabel='Embarked', ylabel='Count'>"
      ]
     },
     "execution_count": 121,
     "metadata": {},
     "output_type": "execute_result"
    },
    {
     "data": {
      "image/png": "[encoded data removed]",
      "text/plain": [
       "<Figure size 640x480 with 1 Axes>"
      ]
     },
     "metadata": {},
     "output_type": "display_data"
    }
   ],
   "source": [
    "sns.histplot(train['Embarked'])"
   ]
  },
  {
   "cell_type": "markdown",
   "id": "f681d5eb-70c1-4068-94d1-3d5b831d8d4c",
   "metadata": {},
   "source": [
    "*Filling NaN values with 'S' as it's most common and making dummy variables*"
   ]
  },
  {
   "cell_type": "code",
   "execution_count": 122,
   "id": "767b5aa9-7552-4b19-ac5e-a147e2590ce2",
   "metadata": {},
   "outputs": [],
   "source": [
    "def process_embarked():\n",
    "    global train\n",
    "    global test\n",
    "    \n",
    "    train['Embarked'].fillna('S',inplace=True)\n",
    "    embark = pd.get_dummies(train['Embarked'],drop_first=True,dtype=int)\n",
    "    train.drop('Embarked',axis=1,inplace=True)\n",
    "    train = pd.concat([train,embark],axis=1)\n",
    "\n",
    "    test['Embarked'].fillna('S',inplace=True)\n",
    "    embark_t = pd.get_dummies(test['Embarked'],drop_first=True,dtype=int)\n",
    "    test.drop('Embarked',axis=1,inplace=True)\n",
    "    test = pd.concat([test,embark_t],axis=1)\n",
    "    \n",
    "process_embarked()"
   ]
  },
  {
   "cell_type": "markdown",
   "id": "c99f255b-6f7e-4fbb-948e-4308ec99c1c8",
   "metadata": {},
   "source": [
    "# Finally training the model"
   ]
  },
  {
   "cell_type": "code",
   "execution_count": 123,
   "id": "c9ac5f71-0558-4cf6-86e7-4fde0a74a42e",
   "metadata": {},
   "outputs": [],
   "source": [
    "from sklearn.metrics import confusion_matrix,classification_report"
   ]
  },
  {
   "cell_type": "code",
   "execution_count": 124,
   "id": "c2401686-b99d-4cad-9b32-7ad1edad77bb",
   "metadata": {},
   "outputs": [],
   "source": [
    "from sklearn.ensemble import RandomForestClassifier\n",
    "from sklearn.model_selection import train_test_split"
   ]
  },
  {
   "cell_type": "code",
   "execution_count": 125,
   "id": "74c031f9-67bf-4c17-801b-cf6626ac13f1",
   "metadata": {},
   "outputs": [],
   "source": [
    "test['Survived'] = 0\n",
    "test['Fare'] = test['Fare'].fillna(35.6271)"
   ]
  },
  {
   "cell_type": "code",
   "execution_count": 157,
   "id": "639b12c8-cf6c-4cd7-b50d-f05f50edc473",
   "metadata": {},
   "outputs": [],
   "source": [
    "X = train.drop(['PassengerId','Survived','Ticket','Royal','T','B','C','D','F','G','Q','S'],axis=1)\n",
    "y = train['Survived']\n",
    "\n",
    "X_train, X_test, y_train, y_test = train_test_split(X, y, test_size=0.3)\n",
    "\n",
    "validate = test.drop(['PassengerId','Survived','Ticket','B','C','D','F','G','Q','S'],axis=1)"
   ]
  },
  {
   "cell_type": "code",
   "execution_count": 162,
   "id": "8f1a8615-6082-4d57-9e96-c6a3786e82fd",
   "metadata": {},
   "outputs": [],
   "source": [
    "rfc = RandomForestClassifier(n_estimators=180,min_samples_leaf=3,max_features=0.5,n_jobs=-1)\n",
    "rfc.fit(X_train,y_train)\n",
    "predictions = rfc.predict(X_test)"
   ]
  },
  {
   "cell_type": "code",
   "execution_count": 163,
   "id": "18507698-1a24-4fd2-a97e-3a4285722779",
   "metadata": {},
   "outputs": [
    {
     "name": "stdout",
     "output_type": "stream",
     "text": [
      "              precision    recall  f1-score   support\n",
      "\n",
      "           0       0.83      0.93      0.88       169\n",
      "           1       0.85      0.68      0.75        99\n",
      "\n",
      "    accuracy                           0.84       268\n",
      "   macro avg       0.84      0.80      0.81       268\n",
      "weighted avg       0.84      0.84      0.83       268\n",
      "\n"
     ]
    }
   ],
   "source": [
    "print(classification_report(y_test,predictions))"
   ]
  },
  {
   "cell_type": "code",
   "execution_count": 138,
   "id": "e1406133-92fb-4589-ac1c-737701c1471f",
   "metadata": {},
   "outputs": [
    {
     "name": "stdout",
     "output_type": "stream",
     "text": [
      "[0.04551895 0.0387886  0.05751431 0.19211567 0.02195491 0.04881391\n",
      " 0.19366096 0.05666134 0.02479051 0.04333939 0.00551069 0.00544471\n",
      " 0.00622542 0.02891958 0.00223192 0.00344705 0.03890174 0.00541776\n",
      " 0.0095178 ]\n"
     ]
    }
   ],
   "source": [
    "importances = rfc.feature_importances_\n",
    "std = np.std([tree.feature_importances_ for tree in rfc.estimators_], axis=0)\n",
    "\n",
    "print(std)"
   ]
  },
  {
   "cell_type": "code",
   "execution_count": 154,
   "id": "840ca880-c2d3-4386-a0c8-ca244d9996dd",
   "metadata": {},
   "outputs": [
    {
     "data": {
      "text/plain": [
       "'Fare'"
      ]
     },
     "execution_count": 154,
     "metadata": {},
     "output_type": "execute_result"
    }
   ],
   "source": [
    "features = list(test.columns.values)\n",
    "features.pop(0)\n",
    "features.pop(20)\n",
    "features.pop(3)"
   ]
  },
  {
   "cell_type": "code",
   "execution_count": 156,
   "id": "c0644132-f1f1-4100-8a6d-0843ae8e93e2",
   "metadata": {},
   "outputs": [
    {
     "data": {
      "text/plain": [
       "<Axes: >"
      ]
     },
     "execution_count": 156,
     "metadata": {},
     "output_type": "execute_result"
    },
    {
     "data": {
      "image/png": "[encoded data removed]",
      "text/plain": [
       "<Figure size 640x480 with 1 Axes>"
      ]
     },
     "metadata": {},
     "output_type": "display_data"
    }
   ],
   "source": [
    "sns.barplot(x=features,y=std)"
   ]
  },
  {
   "cell_type": "code",
   "execution_count": 164,
   "id": "0fd526eb-550c-4a3b-904b-82fef9e3ce05",
   "metadata": {
    "scrolled": true
   },
   "outputs": [
    {
     "name": "stdout",
     "output_type": "stream",
     "text": [
      "892,0\n",
      "893,0\n",
      "894,0\n",
      "895,0\n",
      "896,1\n",
      "897,0\n",
      "898,1\n",
      "899,0\n",
      "900,1\n",
      "901,0\n",
      "902,0\n",
      "903,0\n",
      "904,1\n",
      "905,0\n",
      "906,1\n",
      "907,1\n",
      "908,0\n",
      "909,0\n",
      "910,1\n",
      "911,0\n",
      "912,0\n",
      "913,1\n",
      "914,1\n",
      "915,0\n",
      "916,1\n",
      "917,0\n",
      "918,1\n",
      "919,0\n",
      "920,1\n",
      "921,0\n",
      "922,0\n",
      "923,0\n",
      "924,1\n",
      "925,0\n",
      "926,1\n",
      "927,0\n",
      "928,1\n",
      "929,0\n",
      "930,0\n",
      "931,0\n",
      "932,0\n",
      "933,1\n",
      "934,0\n",
      "935,1\n",
      "936,1\n",
      "937,0\n",
      "938,1\n",
      "939,0\n",
      "940,1\n",
      "941,1\n",
      "942,0\n",
      "943,0\n",
      "944,1\n",
      "945,1\n",
      "946,0\n",
      "947,0\n",
      "948,0\n",
      "949,0\n",
      "950,0\n",
      "951,1\n",
      "952,0\n",
      "953,0\n",
      "954,0\n",
      "955,1\n",
      "956,1\n",
      "957,1\n",
      "958,1\n",
      "959,0\n",
      "960,1\n",
      "961,1\n",
      "962,1\n",
      "963,0\n",
      "964,1\n",
      "965,1\n",
      "966,1\n",
      "967,0\n",
      "968,0\n",
      "969,1\n",
      "970,0\n",
      "971,1\n",
      "972,1\n",
      "973,0\n",
      "974,0\n",
      "975,0\n",
      "976,0\n",
      "977,0\n",
      "978,1\n",
      "979,1\n",
      "980,1\n",
      "981,1\n",
      "982,1\n",
      "983,0\n",
      "984,1\n",
      "985,0\n",
      "986,0\n",
      "987,0\n",
      "988,1\n",
      "989,0\n",
      "990,1\n",
      "991,0\n",
      "992,1\n",
      "993,0\n",
      "994,0\n",
      "995,0\n",
      "996,1\n",
      "997,0\n",
      "998,0\n",
      "999,0\n",
      "1000,0\n",
      "1001,0\n",
      "1002,0\n",
      "1003,1\n",
      "1004,1\n",
      "1005,1\n",
      "1006,1\n",
      "1007,0\n",
      "1008,0\n",
      "1009,1\n",
      "1010,0\n",
      "1011,1\n",
      "1012,1\n",
      "1013,0\n",
      "1014,1\n",
      "1015,0\n",
      "1016,0\n",
      "1017,1\n",
      "1018,0\n",
      "1019,1\n",
      "1020,0\n",
      "1021,0\n",
      "1022,0\n",
      "1023,0\n",
      "1024,0\n",
      "1025,0\n",
      "1026,0\n",
      "1027,0\n",
      "1028,0\n",
      "1029,0\n",
      "1030,0\n",
      "1031,0\n",
      "1032,0\n",
      "1033,1\n",
      "1034,0\n",
      "1035,0\n",
      "1036,0\n",
      "1037,0\n",
      "1038,0\n",
      "1039,0\n",
      "1040,0\n",
      "1041,0\n",
      "1042,1\n",
      "1043,0\n",
      "1044,0\n",
      "1045,0\n",
      "1046,0\n",
      "1047,0\n",
      "1048,1\n",
      "1049,1\n",
      "1050,1\n",
      "1051,1\n",
      "1052,1\n",
      "1053,1\n",
      "1054,1\n",
      "1055,0\n",
      "1056,0\n",
      "1057,1\n",
      "1058,0\n",
      "1059,0\n",
      "1060,1\n",
      "1061,0\n",
      "1062,0\n",
      "1063,0\n",
      "1064,0\n",
      "1065,0\n",
      "1066,0\n",
      "1067,1\n",
      "1068,1\n",
      "1069,0\n",
      "1070,1\n",
      "1071,1\n",
      "1072,0\n",
      "1073,0\n",
      "1074,1\n",
      "1075,0\n",
      "1076,1\n",
      "1077,0\n",
      "1078,1\n",
      "1079,0\n",
      "1080,0\n",
      "1081,0\n",
      "1082,0\n",
      "1083,0\n",
      "1084,1\n",
      "1085,0\n",
      "1086,1\n",
      "1087,0\n",
      "1088,1\n",
      "1089,1\n",
      "1090,0\n",
      "1091,0\n",
      "1092,1\n",
      "1093,1\n",
      "1094,0\n",
      "1095,1\n",
      "1096,0\n",
      "1097,0\n",
      "1098,0\n",
      "1099,0\n",
      "1100,1\n",
      "1101,0\n",
      "1102,0\n",
      "1103,0\n",
      "1104,0\n",
      "1105,1\n",
      "1106,0\n",
      "1107,0\n",
      "1108,1\n",
      "1109,0\n",
      "1110,1\n",
      "1111,0\n",
      "1112,1\n",
      "1113,0\n",
      "1114,1\n",
      "1115,0\n",
      "1116,1\n",
      "1117,0\n",
      "1118,0\n",
      "1119,1\n",
      "1120,0\n",
      "1121,0\n",
      "1122,0\n",
      "1123,1\n",
      "1124,0\n",
      "1125,0\n",
      "1126,0\n",
      "1127,0\n",
      "1128,0\n",
      "1129,0\n",
      "1130,1\n",
      "1131,1\n",
      "1132,1\n",
      "1133,1\n",
      "1134,0\n",
      "1135,0\n",
      "1136,1\n",
      "1137,0\n",
      "1138,1\n",
      "1139,0\n",
      "1140,1\n",
      "1141,0\n",
      "1142,1\n",
      "1143,0\n",
      "1144,0\n",
      "1145,0\n",
      "1146,0\n",
      "1147,0\n",
      "1148,0\n",
      "1149,0\n",
      "1150,1\n",
      "1151,0\n",
      "1152,0\n",
      "1153,0\n",
      "1154,1\n",
      "1155,1\n",
      "1156,0\n",
      "1157,0\n",
      "1158,0\n",
      "1159,0\n",
      "1160,1\n",
      "1161,0\n",
      "1162,0\n",
      "1163,0\n",
      "1164,1\n",
      "1165,1\n",
      "1166,0\n",
      "1167,1\n",
      "1168,0\n",
      "1169,0\n",
      "1170,0\n",
      "1171,0\n",
      "1172,0\n",
      "1173,1\n",
      "1174,1\n",
      "1175,0\n",
      "1176,1\n",
      "1177,0\n",
      "1178,0\n",
      "1179,0\n",
      "1180,0\n",
      "1181,0\n",
      "1182,0\n",
      "1183,1\n",
      "1184,0\n",
      "1185,0\n",
      "1186,0\n",
      "1187,0\n",
      "1188,1\n",
      "1189,0\n",
      "1190,0\n",
      "1191,0\n",
      "1192,0\n",
      "1193,0\n",
      "1194,0\n",
      "1195,0\n",
      "1196,1\n",
      "1197,1\n",
      "1198,0\n",
      "1199,1\n",
      "1200,0\n",
      "1201,0\n",
      "1202,0\n",
      "1203,0\n",
      "1204,0\n",
      "1205,0\n",
      "1206,1\n",
      "1207,1\n",
      "1208,0\n",
      "1209,0\n",
      "1210,0\n",
      "1211,0\n",
      "1212,0\n",
      "1213,0\n",
      "1214,0\n",
      "1215,0\n",
      "1216,1\n",
      "1217,0\n",
      "1218,1\n",
      "1219,0\n",
      "1220,0\n",
      "1221,0\n",
      "1222,1\n",
      "1223,1\n",
      "1224,0\n",
      "1225,1\n",
      "1226,0\n",
      "1227,0\n",
      "1228,0\n",
      "1229,0\n",
      "1230,0\n",
      "1231,1\n",
      "1232,0\n",
      "1233,0\n",
      "1234,0\n",
      "1235,1\n",
      "1236,1\n",
      "1237,1\n",
      "1238,0\n",
      "1239,0\n",
      "1240,0\n",
      "1241,1\n",
      "1242,1\n",
      "1243,0\n",
      "1244,0\n",
      "1245,0\n",
      "1246,1\n",
      "1247,0\n",
      "1248,1\n",
      "1249,0\n",
      "1250,0\n",
      "1251,1\n",
      "1252,0\n",
      "1253,1\n",
      "1254,1\n",
      "1255,0\n",
      "1256,1\n",
      "1257,0\n",
      "1258,0\n",
      "1259,1\n",
      "1260,1\n",
      "1261,0\n",
      "1262,0\n",
      "1263,1\n",
      "1264,0\n",
      "1265,0\n",
      "1266,1\n",
      "1267,1\n",
      "1268,0\n",
      "1269,0\n",
      "1270,0\n",
      "1271,0\n",
      "1272,0\n",
      "1273,0\n",
      "1274,0\n",
      "1275,1\n",
      "1276,0\n",
      "1277,1\n",
      "1278,0\n",
      "1279,0\n",
      "1280,0\n",
      "1281,0\n",
      "1282,0\n",
      "1283,1\n",
      "1284,1\n",
      "1285,0\n",
      "1286,0\n",
      "1287,1\n",
      "1288,0\n",
      "1289,1\n",
      "1290,0\n",
      "1291,0\n",
      "1292,1\n",
      "1293,0\n",
      "1294,1\n",
      "1295,0\n",
      "1296,1\n",
      "1297,0\n",
      "1298,0\n",
      "1299,0\n",
      "1300,1\n",
      "1301,1\n",
      "1302,1\n",
      "1303,1\n",
      "1304,1\n",
      "1305,0\n",
      "1306,1\n",
      "1307,0\n",
      "1308,0\n",
      "1309,1\n"
     ]
    }
   ],
   "source": [
    "predictions = rfc.predict(validate)\n",
    "for i in range(len(test['PassengerId'])):\n",
    "    s = (str(test['PassengerId'][i])+\",\"+str(predictions[i]))\n",
    "    print(s.strip())"
   ]
  }
 ],
 "metadata": {
  "kernelspec": {
   "display_name": "Python 3 (ipykernel)",
   "language": "python",
   "name": "python3"
  },
  "language_info": {
   "codemirror_mode": {
    "name": "ipython",
    "version": 3
   },
   "file_extension": ".py",
   "mimetype": "text/x-python",
   "name": "python",
   "nbconvert_exporter": "python",
   "pygments_lexer": "ipython3",
   "version": "3.11.4"
  }
 },
 "nbformat": 4,
 "nbformat_minor": 5
}
